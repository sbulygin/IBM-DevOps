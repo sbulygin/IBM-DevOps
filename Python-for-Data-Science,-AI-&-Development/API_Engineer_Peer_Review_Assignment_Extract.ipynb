{
 "cells": [
  {
   "cell_type": "markdown",
   "metadata": {},
   "source": [
    "<center>\n",
    "    <img src=\"https://gitlab.com/ibm/skills-network/courses/placeholder101/-/raw/master/labs/module%201/images/IDSNlogo.png\" width=\"300\" alt=\"cognitiveclass.ai logo\"  />\n",
    "</center>\n"
   ]
  },
  {
   "cell_type": "markdown",
   "metadata": {},
   "source": [
    "# Peer Review Assignment - Data Engineer - Extract API Data\n"
   ]
  },
  {
   "cell_type": "markdown",
   "metadata": {},
   "source": [
    "Estimated time needed: **20** minutes\n"
   ]
  },
  {
   "cell_type": "markdown",
   "metadata": {},
   "source": [
    "## Objectives\n",
    "\n",
    "In this part you will:\n",
    "\n",
    "*   Collect exchange rate data using an API\n",
    "*   Store the data as a CSV\n"
   ]
  },
  {
   "cell_type": "markdown",
   "metadata": {},
   "source": [
    "For this lab, we are going to be using Python and several Python libraries. Some of these libraries might be installed in your lab environment or in SN Labs. Others may need to be installed by you. The cells below will install these libraries when executed.\n"
   ]
  },
  {
   "cell_type": "code",
   "execution_count": null,
   "metadata": {},
   "outputs": [],
   "source": [
    "#!mamba install pandas==1.3.3 -y\n",
    "#!mamba install requests==2.26.0 -y"
   ]
  },
  {
   "cell_type": "markdown",
   "metadata": {},
   "source": [
    "## Imports\n",
    "\n",
    "Import any additional libraries you may need here.\n"
   ]
  },
  {
   "cell_type": "code",
   "execution_count": 1,
   "metadata": {},
   "outputs": [],
   "source": [
    "import requests\n",
    "import pandas as pd"
   ]
  },
  {
   "cell_type": "markdown",
   "metadata": {},
   "source": [
    "## Extract Data Using an API\n"
   ]
  },
  {
   "cell_type": "markdown",
   "metadata": {},
   "source": [
    "Using ExchangeRate-API we will extract currency exchange rate data. Use the below steps to get the access key and to get the data.\n",
    "\n",
    "1.  Open the url : [https://exchangeratesapi.io/](https://exchangeratesapi.io/?utm_medium=Exinfluencer&utm_source=Exinfluencer&utm_content=000026UJ&utm_term=10006555&utm_id=NA-SkillsNetwork-Channel-SkillsNetworkCoursesIBMDeveloperSkillsNetworkPY0221ENSkillsNetwork23455645-2022-01-01) and create a free account.\n",
    "2.  Once the account is created. You will get the Get the Free API key option on the top as shown below:\n",
    "\n",
    "<img src=\"https://cf-courses-data.s3.us.cloud-object-storage.appdomain.cloud/IBMDeveloperSkillsNetwork-PY0221EN-SkillsNetwork/labs/module%206/Final%20Assignment/Images/getapi.png\"/>\n",
    "\n",
    "3.  Copy the API key and use in the url in Question 1.\n"
   ]
  },
  {
   "cell_type": "markdown",
   "metadata": {},
   "source": [
    "### Call the API\n",
    "\n",
    "<b> Question 1</b> Using the `requests` library call the endpoint given above and save the text, remember the first few characters of the output:\n"
   ]
  },
  {
   "cell_type": "code",
   "execution_count": 5,
   "metadata": {},
   "outputs": [],
   "source": [
    "# Write your code here\n",
    "#url = \"https://api.exchangeratesapi.io/v1/latest?base=EUR&access_key=...\"  #Make sure to change ******* to your API key.\n"
   ]
  },
  {
   "cell_type": "code",
   "execution_count": 7,
   "metadata": {},
   "outputs": [],
   "source": [
    "url = \"https://api.apilayer.com/exchangerates_data/latest?base=EUR\"\n",
    "\n",
    "payload = {}\n",
    "headers= {\n",
    "  \"apikey\": \"OzgKn6Z0srp8TS9miZWUz06kNgGdKbmr\"\n",
    "}\n",
    "\n",
    "response = requests.request(\"GET\", url, headers=headers, data = payload)\n",
    "\n",
    "status_code = response.status_code\n",
    "result = response.text"
   ]
  },
  {
   "cell_type": "code",
   "execution_count": 13,
   "metadata": {},
   "outputs": [
    {
     "name": "stdout",
     "output_type": "stream",
     "text": [
      "{\n",
      "    \"success\": true,\n",
      "    \"timestamp\": 1651787524,\n",
      "    \"base\": \"EUR\",\n",
      "    \"date\": \"2022-05-05\",\n",
      "    \"rates\": {\n",
      "        \"AED\": 3.871794,\n",
      "        \"AFN\": 90.654668,\n",
      "        \"ALL\": 120.43464,\n",
      "        \"AMD\": 489.632704,\n",
      "        \"ANG\": 1.902517,\n",
      "        \"AOA\": 427.611753,\n",
      "        \"ARS\": 122.430765,\n",
      "        \"AUD\": 1.482184,\n",
      "        \"AWG\": 1.892689,\n",
      "        \"AZN\": 1.799865,\n",
      "        \"BAM\": 1.948269,\n",
      "        \"BBD\": 2.131429,\n",
      "        \"BDT\": 91.288008,\n",
      "        \"BGN\": 1.956155,\n",
      "        \"BHD\": 0.397353,\n",
      "        \"BIF\": 2131.976467,\n",
      "        \"BMD\": 1.054129,\n",
      "        \"BND\": 1.453223,\n",
      "        \"BOB\": 7.247077,\n",
      "        \"BRL\": 5.299738,\n",
      "        \"BSD\": 1.055604,\n",
      "        \"BTC\": 2.8879653e-05,\n",
      "        \"BTN\": 80.468031,\n",
      "        \"BWP\": 12.703402,\n",
      "        \"BYN\": 3.562376,\n",
      "        \"BYR\": 20660.933867,\n",
      "        \"BZD\": 2.127843,\n",
      "        \"CAD\": 1.353239,\n",
      "        \"CDF\": 2128.287022,\n",
      "        \"CHF\": 1.038738,\n",
      "        \"CLF\": 0.032941,\n",
      "        \"CLP\": 908.954355,\n",
      "        \"CNY\": 7.015967,\n",
      "        \"COP\": 4312.790743,\n",
      "        \"CRC\": 701.198883,\n",
      "        \"CUC\": 1.054129,\n",
      "        \"CUP\": 27.934426,\n",
      "        \"CVE\": 111.031383,\n",
      "        \"CZK\": 24.583241,\n",
      "        \"DJF\": 187.339532,\n",
      "        \"DKK\": 7.440361,\n",
      "        \"DOP\": 58.187996,\n",
      "        \"DZD\": 152.902215,\n",
      "        \"EGP\": 19.480769,\n",
      "        \"ERN\": 15.811941,\n",
      "        \"ETB\": 54.203069,\n",
      "        \"EUR\": 1,\n",
      "        \"FJD\": 2.280295,\n",
      "        \"FKP\": 0.810248,\n",
      "        \"GBP\": 0.852981,\n",
      "        \"GEL\": 3.193976,\n",
      "        \"GGP\": 0.810248,\n",
      "        \"GHS\": 7.932291,\n",
      "        \"GIP\": 0.810248,\n",
      "        \"GMD\": 56.685805,\n",
      "        \"GNF\": 9329.044126,\n",
      "        \"GTQ\": 8.094113,\n",
      "        \"GYD\": 220.852944,\n",
      "        \"HKD\": 8.274651,\n",
      "        \"HNL\": 25.783735,\n",
      "        \"HRK\": 7.53766,\n",
      "        \"HTG\": 116.649323,\n",
      "        \"HUF\": 380.730216,\n",
      "        \"IDR\": 15241.391712,\n",
      "        \"ILS\": 3.605226,\n",
      "        \"IMP\": 0.810248,\n",
      "        \"INR\": 80.650167,\n",
      "        \"IQD\": 1539.028747,\n",
      "        \"IRR\": 44642.375137,\n",
      "        \"ISK\": 137.980292,\n",
      "        \"JEP\": 0.810248,\n",
      "        \"JMD\": 163.098071,\n",
      "        \"JOD\": 0.747341,\n",
      "        \"JPY\": 137.267673,\n",
      "        \"KES\": 122.226237,\n",
      "        \"KGS\": 86.545487,\n",
      "        \"KHR\": 4271.332007,\n",
      "        \"KMF\": 493.701499,\n",
      "        \"KPW\": 948.716476,\n",
      "        \"KRW\": 1338.29092,\n",
      "        \"KWD\": 0.323306,\n",
      "        \"KYD\": 0.879686,\n",
      "        \"KZT\": 450.734369,\n",
      "        \"LAK\": 13102.827494,\n",
      "        \"LBP\": 1598.587459,\n",
      "        \"LKR\": 380.046088,\n",
      "        \"LRD\": 159.173292,\n",
      "        \"LSL\": 16.866398,\n",
      "        \"LTL\": 3.11257,\n",
      "        \"LVL\": 0.637632,\n",
      "        \"LYD\": 5.04963,\n",
      "        \"MAD\": 10.554467,\n",
      "        \"MDL\": 19.793389,\n",
      "        \"MGA\": 4221.787147,\n",
      "        \"MKD\": 61.378267,\n",
      "        \"MMK\": 1954.597662,\n",
      "        \"MNT\": 3156.972983,\n",
      "        \"MOP\": 8.534364,\n",
      "        \"MRO\": 376.323971,\n",
      "        \"MUR\": 45.325024,\n",
      "        \"MVR\": 16.286374,\n",
      "        \"MWK\": 858.061166,\n",
      "        \"MXN\": 21.329569,\n",
      "        \"MYR\": 4.583881,\n",
      "        \"MZN\": 67.285137,\n",
      "        \"NAD\": 16.866645,\n",
      "        \"NGN\": 437.589925,\n",
      "        \"NIO\": 37.706861,\n",
      "        \"NOK\": 9.990273,\n",
      "        \"NPR\": 128.752629,\n",
      "        \"NZD\": 1.641095,\n",
      "        \"OMR\": 0.405865,\n",
      "        \"PAB\": 1.055604,\n",
      "        \"PEN\": 3.976179,\n",
      "        \"PGK\": 3.710283,\n",
      "        \"PHP\": 55.557923,\n",
      "        \"PKR\": 195.725479,\n",
      "        \"PLN\": 4.692878,\n",
      "        \"PYG\": 7201.852035,\n",
      "        \"QAR\": 3.838348,\n",
      "        \"RON\": 4.947771,\n",
      "        \"RSD\": 117.58766,\n",
      "        \"RUB\": 68.518011,\n",
      "        \"RWF\": 1076.265994,\n",
      "        \"SAR\": 3.953054,\n",
      "        \"SBD\": 8.511373,\n",
      "        \"SCR\": 14.367423,\n",
      "        \"SDG\": 471.719679,\n",
      "        \"SEK\": 10.477937,\n",
      "        \"SGD\": 1.459458,\n",
      "        \"SHP\": 1.451956,\n",
      "        \"SLL\": 13287.300014,\n",
      "        \"SOS\": 611.394744,\n",
      "        \"SRD\": 21.981752,\n",
      "        \"STD\": 21818.347796,\n",
      "        \"SVC\": 9.236158,\n",
      "        \"SYP\": 2648.446571,\n",
      "        \"SZL\": 16.865681,\n",
      "        \"THB\": 36.217771,\n",
      "        \"TJS\": 13.148512,\n",
      "        \"TMT\": 3.699994,\n",
      "        \"TND\": 3.231431,\n",
      "        \"TOP\": 2.428134,\n",
      "        \"TRY\": 15.67501,\n",
      "        \"TTD\": 7.169876,\n",
      "        \"TWD\": 31.278229,\n",
      "        \"TZS\": 2450.850577,\n",
      "        \"UAH\": 31.036059,\n",
      "        \"UGX\": 3742.27748,\n",
      "        \"USD\": 1.054129,\n",
      "        \"UYU\": 43.402569,\n",
      "        \"UZS\": 11737.729264,\n",
      "        \"VEF\": 225404698091.49808,\n",
      "        \"VND\": 24198.591728,\n",
      "        \"VUV\": 118.675615,\n",
      "        \"WST\": 2.72539,\n",
      "        \"XAF\": 653.427467,\n",
      "        \"XAG\": 0.046786,\n",
      "        \"XAU\": 0.000562,\n",
      "        \"XCD\": 2.848838,\n",
      "        \"XDR\": 0.786972,\n",
      "        \"XOF\": 657.24541,\n",
      "        \"XPF\": 119.775464,\n",
      "        \"YER\": 263.795457,\n",
      "        \"ZAR\": 16.858379,\n",
      "        \"ZMK\": 9488.414201,\n",
      "        \"ZMW\": 17.946057,\n",
      "        \"ZWL\": 339.429198\n",
      "    }\n",
      "}\n",
      "\n"
     ]
    }
   ],
   "source": [
    "print(result)"
   ]
  },
  {
   "cell_type": "markdown",
   "metadata": {},
   "source": [
    "### Save as DataFrame\n",
    "\n",
    "<b> Question 2</b>  Using the data gathered turn it into a `pandas` dataframe. The dataframe should have the Currency as the index and `Rate` as their columns. Make sure to drop unnecessary columns.\n"
   ]
  },
  {
   "cell_type": "code",
   "execution_count": 14,
   "metadata": {},
   "outputs": [
    {
     "data": {
      "text/html": [
       "<div>\n",
       "<style scoped>\n",
       "    .dataframe tbody tr th:only-of-type {\n",
       "        vertical-align: middle;\n",
       "    }\n",
       "\n",
       "    .dataframe tbody tr th {\n",
       "        vertical-align: top;\n",
       "    }\n",
       "\n",
       "    .dataframe thead th {\n",
       "        text-align: right;\n",
       "    }\n",
       "</style>\n",
       "<table border=\"1\" class=\"dataframe\">\n",
       "  <thead>\n",
       "    <tr style=\"text-align: right;\">\n",
       "      <th></th>\n",
       "      <th>success</th>\n",
       "      <th>timestamp</th>\n",
       "      <th>base</th>\n",
       "      <th>date</th>\n",
       "      <th>rates</th>\n",
       "    </tr>\n",
       "  </thead>\n",
       "  <tbody>\n",
       "    <tr>\n",
       "      <th>AED</th>\n",
       "      <td>True</td>\n",
       "      <td>2022-05-05 21:52:04</td>\n",
       "      <td>EUR</td>\n",
       "      <td>2022-05-05</td>\n",
       "      <td>3.871794</td>\n",
       "    </tr>\n",
       "    <tr>\n",
       "      <th>AFN</th>\n",
       "      <td>True</td>\n",
       "      <td>2022-05-05 21:52:04</td>\n",
       "      <td>EUR</td>\n",
       "      <td>2022-05-05</td>\n",
       "      <td>90.654668</td>\n",
       "    </tr>\n",
       "    <tr>\n",
       "      <th>ALL</th>\n",
       "      <td>True</td>\n",
       "      <td>2022-05-05 21:52:04</td>\n",
       "      <td>EUR</td>\n",
       "      <td>2022-05-05</td>\n",
       "      <td>120.434640</td>\n",
       "    </tr>\n",
       "    <tr>\n",
       "      <th>AMD</th>\n",
       "      <td>True</td>\n",
       "      <td>2022-05-05 21:52:04</td>\n",
       "      <td>EUR</td>\n",
       "      <td>2022-05-05</td>\n",
       "      <td>489.632704</td>\n",
       "    </tr>\n",
       "    <tr>\n",
       "      <th>ANG</th>\n",
       "      <td>True</td>\n",
       "      <td>2022-05-05 21:52:04</td>\n",
       "      <td>EUR</td>\n",
       "      <td>2022-05-05</td>\n",
       "      <td>1.902517</td>\n",
       "    </tr>\n",
       "    <tr>\n",
       "      <th>...</th>\n",
       "      <td>...</td>\n",
       "      <td>...</td>\n",
       "      <td>...</td>\n",
       "      <td>...</td>\n",
       "      <td>...</td>\n",
       "    </tr>\n",
       "    <tr>\n",
       "      <th>YER</th>\n",
       "      <td>True</td>\n",
       "      <td>2022-05-05 21:52:04</td>\n",
       "      <td>EUR</td>\n",
       "      <td>2022-05-05</td>\n",
       "      <td>263.795457</td>\n",
       "    </tr>\n",
       "    <tr>\n",
       "      <th>ZAR</th>\n",
       "      <td>True</td>\n",
       "      <td>2022-05-05 21:52:04</td>\n",
       "      <td>EUR</td>\n",
       "      <td>2022-05-05</td>\n",
       "      <td>16.858379</td>\n",
       "    </tr>\n",
       "    <tr>\n",
       "      <th>ZMK</th>\n",
       "      <td>True</td>\n",
       "      <td>2022-05-05 21:52:04</td>\n",
       "      <td>EUR</td>\n",
       "      <td>2022-05-05</td>\n",
       "      <td>9488.414201</td>\n",
       "    </tr>\n",
       "    <tr>\n",
       "      <th>ZMW</th>\n",
       "      <td>True</td>\n",
       "      <td>2022-05-05 21:52:04</td>\n",
       "      <td>EUR</td>\n",
       "      <td>2022-05-05</td>\n",
       "      <td>17.946057</td>\n",
       "    </tr>\n",
       "    <tr>\n",
       "      <th>ZWL</th>\n",
       "      <td>True</td>\n",
       "      <td>2022-05-05 21:52:04</td>\n",
       "      <td>EUR</td>\n",
       "      <td>2022-05-05</td>\n",
       "      <td>339.429198</td>\n",
       "    </tr>\n",
       "  </tbody>\n",
       "</table>\n",
       "<p>168 rows × 5 columns</p>\n",
       "</div>"
      ],
      "text/plain": [
       "     success           timestamp base       date        rates\n",
       "AED     True 2022-05-05 21:52:04  EUR 2022-05-05     3.871794\n",
       "AFN     True 2022-05-05 21:52:04  EUR 2022-05-05    90.654668\n",
       "ALL     True 2022-05-05 21:52:04  EUR 2022-05-05   120.434640\n",
       "AMD     True 2022-05-05 21:52:04  EUR 2022-05-05   489.632704\n",
       "ANG     True 2022-05-05 21:52:04  EUR 2022-05-05     1.902517\n",
       "..       ...                 ...  ...        ...          ...\n",
       "YER     True 2022-05-05 21:52:04  EUR 2022-05-05   263.795457\n",
       "ZAR     True 2022-05-05 21:52:04  EUR 2022-05-05    16.858379\n",
       "ZMK     True 2022-05-05 21:52:04  EUR 2022-05-05  9488.414201\n",
       "ZMW     True 2022-05-05 21:52:04  EUR 2022-05-05    17.946057\n",
       "ZWL     True 2022-05-05 21:52:04  EUR 2022-05-05   339.429198\n",
       "\n",
       "[168 rows x 5 columns]"
      ]
     },
     "execution_count": 14,
     "metadata": {},
     "output_type": "execute_result"
    }
   ],
   "source": [
    "# Turn the data into a dataframe\n",
    "data_frame = pd.read_json(result)\n",
    "data_frame"
   ]
  },
  {
   "cell_type": "code",
   "execution_count": 17,
   "metadata": {},
   "outputs": [
    {
     "data": {
      "text/html": [
       "<div>\n",
       "<style scoped>\n",
       "    .dataframe tbody tr th:only-of-type {\n",
       "        vertical-align: middle;\n",
       "    }\n",
       "\n",
       "    .dataframe tbody tr th {\n",
       "        vertical-align: top;\n",
       "    }\n",
       "\n",
       "    .dataframe thead th {\n",
       "        text-align: right;\n",
       "    }\n",
       "</style>\n",
       "<table border=\"1\" class=\"dataframe\">\n",
       "  <thead>\n",
       "    <tr style=\"text-align: right;\">\n",
       "      <th></th>\n",
       "      <th>rates</th>\n",
       "    </tr>\n",
       "  </thead>\n",
       "  <tbody>\n",
       "    <tr>\n",
       "      <th>AED</th>\n",
       "      <td>3.871794</td>\n",
       "    </tr>\n",
       "    <tr>\n",
       "      <th>AFN</th>\n",
       "      <td>90.654668</td>\n",
       "    </tr>\n",
       "    <tr>\n",
       "      <th>ALL</th>\n",
       "      <td>120.434640</td>\n",
       "    </tr>\n",
       "    <tr>\n",
       "      <th>AMD</th>\n",
       "      <td>489.632704</td>\n",
       "    </tr>\n",
       "    <tr>\n",
       "      <th>ANG</th>\n",
       "      <td>1.902517</td>\n",
       "    </tr>\n",
       "    <tr>\n",
       "      <th>...</th>\n",
       "      <td>...</td>\n",
       "    </tr>\n",
       "    <tr>\n",
       "      <th>YER</th>\n",
       "      <td>263.795457</td>\n",
       "    </tr>\n",
       "    <tr>\n",
       "      <th>ZAR</th>\n",
       "      <td>16.858379</td>\n",
       "    </tr>\n",
       "    <tr>\n",
       "      <th>ZMK</th>\n",
       "      <td>9488.414201</td>\n",
       "    </tr>\n",
       "    <tr>\n",
       "      <th>ZMW</th>\n",
       "      <td>17.946057</td>\n",
       "    </tr>\n",
       "    <tr>\n",
       "      <th>ZWL</th>\n",
       "      <td>339.429198</td>\n",
       "    </tr>\n",
       "  </tbody>\n",
       "</table>\n",
       "<p>168 rows × 1 columns</p>\n",
       "</div>"
      ],
      "text/plain": [
       "           rates\n",
       "AED     3.871794\n",
       "AFN    90.654668\n",
       "ALL   120.434640\n",
       "AMD   489.632704\n",
       "ANG     1.902517\n",
       "..           ...\n",
       "YER   263.795457\n",
       "ZAR    16.858379\n",
       "ZMK  9488.414201\n",
       "ZMW    17.946057\n",
       "ZWL   339.429198\n",
       "\n",
       "[168 rows x 1 columns]"
      ]
     },
     "execution_count": 17,
     "metadata": {},
     "output_type": "execute_result"
    }
   ],
   "source": [
    "# Drop unnescessary columns\n",
    "data_frame = data_frame.drop(columns=['success', 'timestamp', 'base', 'date'])\n",
    "data_frame"
   ]
  },
  {
   "cell_type": "markdown",
   "metadata": {},
   "source": [
    "### Load the Data\n",
    "\n",
    "Using the dataframe save it as a CSV names `exchange_rates_1.csv`.\n"
   ]
  },
  {
   "cell_type": "code",
   "execution_count": 18,
   "metadata": {},
   "outputs": [],
   "source": [
    "# Save the Dataframe\n",
    "data_frame.to_csv(\"exchange_rates_1.csv\")"
   ]
  },
  {
   "cell_type": "markdown",
   "metadata": {},
   "source": [
    "Your CSV should be in this format with more currencies\n",
    "\n",
    "|     | Rates      |\n",
    "| --- | ---------- |\n",
    "| AED | 4.398618   |\n",
    "| AFN | 92.917693  |\n",
    "| ALL | 123.099093 |\n",
    "| AMD | 621.935674 |\n",
    "| ANG | 2.149648   |\n"
   ]
  },
  {
   "cell_type": "markdown",
   "metadata": {},
   "source": [
    "## Authors\n"
   ]
  },
  {
   "cell_type": "markdown",
   "metadata": {},
   "source": [
    "Ramesh Sannareddy, Joseph Santarcangelo and Azim Hirjani\n"
   ]
  },
  {
   "cell_type": "markdown",
   "metadata": {},
   "source": [
    "### Other Contributors\n"
   ]
  },
  {
   "cell_type": "markdown",
   "metadata": {},
   "source": [
    "Rav Ahuja\n"
   ]
  },
  {
   "cell_type": "markdown",
   "metadata": {},
   "source": [
    "## Change Log\n"
   ]
  },
  {
   "cell_type": "markdown",
   "metadata": {},
   "source": [
    "| Date (YYYY-MM-DD) | Version | Changed By        | Change Description                 |\n",
    "| ----------------- | ------- | ----------------- | ---------------------------------- |\n",
    "| 2021-04-15        | 0.2     | Malika            | Updated the lab from USD to EUR    |\n",
    "| 2020-11-25        | 0.1     | Ramesh Sannareddy | Created initial version of the lab |\n"
   ]
  },
  {
   "cell_type": "markdown",
   "metadata": {},
   "source": [
    "Copyright © 2020 IBM Corporation. This notebook and its source code are released under the terms of the [MIT License](https://cognitiveclass.ai/mit-license?utm_medium=Exinfluencer&utm_source=Exinfluencer&utm_content=000026UJ&utm_term=10006555&utm_id=NA-SkillsNetwork-Channel-SkillsNetworkCoursesIBMDeveloperSkillsNetworkPY0221ENSkillsNetwork23455645-2022-01-01&cm_mmc=Email_Newsletter-\\_-Developer_Ed%2BTech-\\_-WW_WW-\\_-SkillsNetwork-Courses-IBM-DA0321EN-SkillsNetwork-21426264&cm_mmca1=000026UJ&cm_mmca2=10006555&cm_mmca3=M12345678&cvosrc=email.Newsletter.M12345678&cvo_campaign=000026UJ).\n"
   ]
  }
 ],
 "metadata": {
  "kernelspec": {
   "display_name": "Python",
   "language": "python",
   "name": "conda-env-python-py"
  },
  "language_info": {
   "codemirror_mode": {
    "name": "ipython",
    "version": 3
   },
   "file_extension": ".py",
   "mimetype": "text/x-python",
   "name": "python",
   "nbconvert_exporter": "python",
   "pygments_lexer": "ipython3",
   "version": "3.7.12"
  }
 },
 "nbformat": 4,
 "nbformat_minor": 4
}
